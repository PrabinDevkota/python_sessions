{
 "cells": [
  {
   "cell_type": "code",
   "execution_count": 1,
   "id": "159e9965-830c-4eea-9e28-abea46acda83",
   "metadata": {},
   "outputs": [
    {
     "name": "stdout",
     "output_type": "stream",
     "text": [
      "I can do it.\n"
     ]
    }
   ],
   "source": [
    "print(\"I can do it.\")"
   ]
  },
  {
   "cell_type": "code",
   "execution_count": null,
   "id": "64d0b9c8-334d-4a81-bd63-dc4242db3961",
   "metadata": {},
   "outputs": [],
   "source": []
  },
  {
   "cell_type": "code",
   "execution_count": null,
   "id": "65e88b0c-ab47-4630-ab51-ef7ddfe49d3b",
   "metadata": {},
   "outputs": [],
   "source": []
  },
  {
   "cell_type": "code",
   "execution_count": null,
   "id": "a4b19dd8-5a4b-487b-b962-3fb259aed556",
   "metadata": {},
   "outputs": [],
   "source": []
  },
  {
   "cell_type": "code",
   "execution_count": 3,
   "id": "945a9260-3381-4b82-8255-da8237743297",
   "metadata": {},
   "outputs": [
    {
     "data": {
      "text/plain": [
       "54"
      ]
     },
     "execution_count": 3,
     "metadata": {},
     "output_type": "execute_result"
    }
   ],
   "source": [
    "a=54\n",
    "a"
   ]
  },
  {
   "cell_type": "markdown",
   "id": "04752b37-5381-4aff-97cd-73fc8eb290c7",
   "metadata": {},
   "source": [
    "This is markdown and I am writing notes in this cell. Lets Go."
   ]
  },
  {
   "cell_type": "markdown",
   "id": "b40eaea3-b327-46e1-84bc-f8f18949375d",
   "metadata": {},
   "source": [
    "#Python"
   ]
  },
  {
   "cell_type": "markdown",
   "id": "e7de5890-e2ba-4c3a-b915-2fdf81a555ad",
   "metadata": {},
   "source": [
    "##Python"
   ]
  },
  {
   "cell_type": "markdown",
   "id": "048089ae-6909-41ad-917d-0fab472c9ba8",
   "metadata": {},
   "source": [
    "#####Python"
   ]
  },
  {
   "cell_type": "markdown",
   "id": "63fd027a-f44b-4005-8309-1abfcd4906b2",
   "metadata": {},
   "source": [
    "# Python"
   ]
  },
  {
   "cell_type": "markdown",
   "id": "5f1fe6e9-3e13-44a8-958f-f51cc48ff947",
   "metadata": {},
   "source": [
    "### Python"
   ]
  },
  {
   "cell_type": "markdown",
   "id": "0d69228b-a9f3-415c-a136-317b2b21df30",
   "metadata": {},
   "source": [
    "##   Python"
   ]
  },
  {
   "cell_type": "markdown",
   "id": "14baf988-4087-41c3-b6fd-1621baec2336",
   "metadata": {},
   "source": [
    "-  I am learning Ml\n",
    "- I hope I will do good in these 4-5 months\n",
    "-     yes,"
   ]
  },
  {
   "cell_type": "code",
   "execution_count": 20,
   "id": "fd75e5bc-8d28-4c69-9812-8a8f6e2ebcfa",
   "metadata": {},
   "outputs": [
    {
     "data": {
      "text/plain": [
       "['BPF',\n",
       " 'LOG4',\n",
       " 'NV_MAGICCONST',\n",
       " 'RECIP_BPF',\n",
       " 'Random',\n",
       " 'SG_MAGICCONST',\n",
       " 'SystemRandom',\n",
       " 'TWOPI',\n",
       " '_ONE',\n",
       " '_Sequence',\n",
       " '__all__',\n",
       " '__builtins__',\n",
       " '__cached__',\n",
       " '__doc__',\n",
       " '__file__',\n",
       " '__loader__',\n",
       " '__name__',\n",
       " '__package__',\n",
       " '__spec__',\n",
       " '_accumulate',\n",
       " '_acos',\n",
       " '_bisect',\n",
       " '_ceil',\n",
       " '_cos',\n",
       " '_e',\n",
       " '_exp',\n",
       " '_fabs',\n",
       " '_floor',\n",
       " '_index',\n",
       " '_inst',\n",
       " '_isfinite',\n",
       " '_lgamma',\n",
       " '_log',\n",
       " '_log2',\n",
       " '_os',\n",
       " '_pi',\n",
       " '_random',\n",
       " '_repeat',\n",
       " '_sha512',\n",
       " '_sin',\n",
       " '_sqrt',\n",
       " '_test',\n",
       " '_test_generator',\n",
       " '_urandom',\n",
       " '_warn',\n",
       " 'betavariate',\n",
       " 'binomialvariate',\n",
       " 'choice',\n",
       " 'choices',\n",
       " 'expovariate',\n",
       " 'gammavariate',\n",
       " 'gauss',\n",
       " 'getrandbits',\n",
       " 'getstate',\n",
       " 'lognormvariate',\n",
       " 'normalvariate',\n",
       " 'paretovariate',\n",
       " 'randbytes',\n",
       " 'randint',\n",
       " 'random',\n",
       " 'randrange',\n",
       " 'sample',\n",
       " 'seed',\n",
       " 'setstate',\n",
       " 'shuffle',\n",
       " 'triangular',\n",
       " 'uniform',\n",
       " 'vonmisesvariate',\n",
       " 'weibullvariate']"
      ]
     },
     "execution_count": 20,
     "metadata": {},
     "output_type": "execute_result"
    }
   ],
   "source": [
    "import random\n",
    "dir(random)"
   ]
  },
  {
   "cell_type": "code",
   "execution_count": 22,
   "id": "6a63b728-ed81-4d47-b7b5-749499f567b0",
   "metadata": {},
   "outputs": [
    {
     "ename": "TypeError",
     "evalue": "Random.randint() missing 2 required positional arguments: 'a' and 'b'",
     "output_type": "error",
     "traceback": [
      "\u001b[1;31m---------------------------------------------------------------------------\u001b[0m",
      "\u001b[1;31mTypeError\u001b[0m                                 Traceback (most recent call last)",
      "Cell \u001b[1;32mIn[22], line 1\u001b[0m\n\u001b[1;32m----> 1\u001b[0m help(random\u001b[38;5;241m.\u001b[39mrandint())\n",
      "\u001b[1;31mTypeError\u001b[0m: Random.randint() missing 2 required positional arguments: 'a' and 'b'"
     ]
    }
   ],
   "source": [
    "help(random.randint())"
   ]
  },
  {
   "cell_type": "code",
   "execution_count": 24,
   "id": "265c4d21-7d6a-4fb0-9e15-f82f25fd13db",
   "metadata": {},
   "outputs": [
    {
     "name": "stdout",
     "output_type": "stream",
     "text": [
      "Help on method randint in module random:\n",
      "\n",
      "randint(a, b) method of random.Random instance\n",
      "    Return random integer in range [a, b], including both end points.\n",
      "\n"
     ]
    }
   ],
   "source": [
    "help(random.randint)"
   ]
  },
  {
   "cell_type": "code",
   "execution_count": 7,
   "id": "53914d84-aee2-4342-8ce2-3b6c36dbafe2",
   "metadata": {},
   "outputs": [
    {
     "data": {
      "text/plain": [
       "47"
      ]
     },
     "execution_count": 7,
     "metadata": {},
     "output_type": "execute_result"
    }
   ],
   "source": [
    "import random\n",
    "random.randint(5,90)"
   ]
  },
  {
   "cell_type": "code",
   "execution_count": 9,
   "id": "b346cf04-a1bf-43e9-99c2-5256c086cee9",
   "metadata": {},
   "outputs": [
    {
     "data": {
      "text/plain": [
       "<module 'random' from 'C:\\\\Users\\\\prabi\\\\anaconda3\\\\Lib\\\\random.py'>"
      ]
     },
     "execution_count": 9,
     "metadata": {},
     "output_type": "execute_result"
    }
   ],
   "source": [
    "random"
   ]
  },
  {
   "cell_type": "code",
   "execution_count": 11,
   "id": "40a4f434-974a-494c-9690-28a64523b698",
   "metadata": {},
   "outputs": [
    {
     "ename": "ModuleNotFoundError",
     "evalue": "No module named 'cv2'",
     "output_type": "error",
     "traceback": [
      "\u001b[1;31m---------------------------------------------------------------------------\u001b[0m",
      "\u001b[1;31mModuleNotFoundError\u001b[0m                       Traceback (most recent call last)",
      "Cell \u001b[1;32mIn[11], line 1\u001b[0m\n\u001b[1;32m----> 1\u001b[0m \u001b[38;5;28;01mimport\u001b[39;00m \u001b[38;5;21;01mcv2\u001b[39;00m\n",
      "\u001b[1;31mModuleNotFoundError\u001b[0m: No module named 'cv2'"
     ]
    }
   ],
   "source": [
    "import cv2"
   ]
  },
  {
   "cell_type": "code",
   "execution_count": 13,
   "id": "8e294856-de34-4a87-9576-b869a6eb74c5",
   "metadata": {},
   "outputs": [],
   "source": [
    "import cv2\n"
   ]
  },
  {
   "cell_type": "code",
   "execution_count": 15,
   "id": "1286fd08-db79-4280-8eea-1c8c34fc5b83",
   "metadata": {},
   "outputs": [
    {
     "data": {
      "text/plain": [
       "205"
      ]
     },
     "execution_count": 15,
     "metadata": {},
     "output_type": "execute_result"
    }
   ],
   "source": [
    "0b11001101"
   ]
  },
  {
   "cell_type": "code",
   "execution_count": 17,
   "id": "aaaf8ec7-6cf6-497e-bdcc-dd0947f3f418",
   "metadata": {},
   "outputs": [
    {
     "data": {
      "text/plain": [
       "1"
      ]
     },
     "execution_count": 17,
     "metadata": {},
     "output_type": "execute_result"
    }
   ],
   "source": [
    "0b001"
   ]
  },
  {
   "cell_type": "code",
   "execution_count": 19,
   "id": "58d8da64-48a2-4fce-8e1b-4c45cc009456",
   "metadata": {},
   "outputs": [
    {
     "data": {
      "text/plain": [
       "100"
      ]
     },
     "execution_count": 19,
     "metadata": {},
     "output_type": "execute_result"
    }
   ],
   "source": [
    "100"
   ]
  },
  {
   "cell_type": "code",
   "execution_count": 21,
   "id": "393aec0f-c705-4d79-8048-43224152ebcd",
   "metadata": {},
   "outputs": [
    {
     "name": "stdout",
     "output_type": "stream",
     "text": [
      "12\n"
     ]
    }
   ],
   "source": [
    "print(0b1100)"
   ]
  },
  {
   "cell_type": "code",
   "execution_count": 7,
   "id": "ec50ab00-76b4-4fae-acd0-6145e417bfdb",
   "metadata": {},
   "outputs": [
    {
     "name": "stdin",
     "output_type": "stream",
     "text": [
      "Enter your roll number.\n",
      " 56\n"
     ]
    },
    {
     "data": {
      "text/plain": [
       "str"
      ]
     },
     "execution_count": 7,
     "metadata": {},
     "output_type": "execute_result"
    }
   ],
   "source": [
    "roll_no=(input(\"Enter your roll number.\\n\"))\n",
    "type(roll_no)"
   ]
  },
  {
   "cell_type": "code",
   "execution_count": 3,
   "id": "26907b6c-9804-4c44-8b46-8e4becea09fb",
   "metadata": {},
   "outputs": [
    {
     "data": {
      "text/plain": [
       "int"
      ]
     },
     "execution_count": 3,
     "metadata": {},
     "output_type": "execute_result"
    }
   ],
   "source": [
    "type(roll_no)"
   ]
  },
  {
   "cell_type": "code",
   "execution_count": 5,
   "id": "56950d94-8234-4342-b886-9d755c0a3617",
   "metadata": {},
   "outputs": [
    {
     "data": {
      "text/plain": [
       "int"
      ]
     },
     "execution_count": 5,
     "metadata": {},
     "output_type": "execute_result"
    }
   ],
   "source": [
    "type(roll_no)"
   ]
  },
  {
   "cell_type": "code",
   "execution_count": 21,
   "id": "bfc4fc26-6ac1-4328-8a8f-f5637914170a",
   "metadata": {},
   "outputs": [
    {
     "ename": "SyntaxError",
     "evalue": "f-string: valid expression required before '}' (297135611.py, line 1)",
     "output_type": "error",
     "traceback": [
      "\u001b[1;36m  Cell \u001b[1;32mIn[21], line 1\u001b[1;36m\u001b[0m\n\u001b[1;33m    print(f\"Use of {}  string{}\",1,23)\u001b[0m\n\u001b[1;37m                    ^\u001b[0m\n\u001b[1;31mSyntaxError\u001b[0m\u001b[1;31m:\u001b[0m f-string: valid expression required before '}'\n"
     ]
    }
   ],
   "source": [
    "print(f\"Use of {}  string{}\",1,23)"
   ]
  },
  {
   "cell_type": "code",
   "execution_count": 1,
   "id": "99f2f1d3-0ef4-487a-9cc2-eedef1e91571",
   "metadata": {},
   "outputs": [],
   "source": [
    "import pytube"
   ]
  },
  {
   "cell_type": "code",
   "execution_count": 3,
   "id": "02f8493d-b13e-4f2a-9839-004dd6db5a93",
   "metadata": {},
   "outputs": [],
   "source": [
    "from pytube import YouTube"
   ]
  },
  {
   "cell_type": "code",
   "execution_count": 7,
   "id": "992de200-583a-4ade-852e-aeb5fdc5d157",
   "metadata": {},
   "outputs": [
    {
     "name": "stdin",
     "output_type": "stream",
     "text": [
      "Youtube video url:   https://youtu.be/QkGqpVYjLUw?list=RDQkGqpVYjLUw\n"
     ]
    },
    {
     "name": "stdout",
     "output_type": "stream",
     "text": [
      "Main Pal Do Pal Ka Shair Hoon Full Song | Kabhi Kabhie | Amitabh Bachchan, Rakhee | Mukesh | Khayyam\n"
     ]
    }
   ],
   "source": [
    "a=input(\"Youtube video url:  \")\n",
    "b=YouTube(a)\n",
    "print(b.title)"
   ]
  },
  {
   "cell_type": "code",
   "execution_count": 9,
   "id": "2620e427-7215-4827-98ec-5566d8681d3c",
   "metadata": {},
   "outputs": [
    {
     "name": "stdout",
     "output_type": "stream",
     "text": [
      "https://i.ytimg.com/vi/QkGqpVYjLUw/hq720.jpg?sqp=-oaymwEXCNUGEOADIAQqCwjVARCqCBh4INgESFo&rs=AOn4CLAlsn-lExbXzmLS_vavh3pccY58sw\n"
     ]
    }
   ],
   "source": [
    "print(b.thumbnail_url)"
   ]
  },
  {
   "cell_type": "code",
   "execution_count": 5,
   "id": "8b0edc3a-8a69-482f-9ad6-7325d0a09c8b",
   "metadata": {},
   "outputs": [
    {
     "name": "stdin",
     "output_type": "stream",
     "text": [
      " 9.6\n"
     ]
    }
   ],
   "source": [
    "a=eval(input())"
   ]
  },
  {
   "cell_type": "code",
   "execution_count": 9,
   "id": "3fa9ca1a-6469-4a3a-8dae-61dd5f59aae8",
   "metadata": {},
   "outputs": [
    {
     "data": {
      "text/plain": [
       "float"
      ]
     },
     "execution_count": 9,
     "metadata": {},
     "output_type": "execute_result"
    }
   ],
   "source": [
    "type(a)"
   ]
  },
  {
   "cell_type": "code",
   "execution_count": 11,
   "id": "bd5d10fb-1ee9-4ab9-88cf-44674a2da811",
   "metadata": {},
   "outputs": [],
   "source": [
    "import math"
   ]
  },
  {
   "cell_type": "code",
   "execution_count": 17,
   "id": "a1b0d340-b0b7-4752-87ea-bd3370f9785e",
   "metadata": {},
   "outputs": [
    {
     "name": "stdin",
     "output_type": "stream",
     "text": [
      "Enter first number:  d\n"
     ]
    },
    {
     "name": "stdout",
     "output_type": "stream",
     "text": [
      "name 'd' is not defined\n"
     ]
    }
   ],
   "source": [
    "def avg(a,b,c):\n",
    "    average=(a+b+c)/3\n",
    "    return average\n",
    "try:\n",
    "    a=eval(input(\"Enter first number: \"))\n",
    "    b=eval(input(\"Enter second number: \"))\n",
    "    c=eval(input(\"Enter third number: \"))\n",
    "    print(\"Average of {}, {}, {} is {}\".format(a,b,c,avg(a,b,c)))\n",
    "except Exception as e:\n",
    "    print(e)"
   ]
  },
  {
   "cell_type": "code",
   "execution_count": 3,
   "id": "384b5015-d39b-48cc-810e-076a965f03a9",
   "metadata": {},
   "outputs": [
    {
     "name": "stdout",
     "output_type": "stream",
     "text": [
      "You dont have enough money to play game. Would you like to borrow from your wallet?\n"
     ]
    },
    {
     "name": "stdin",
     "output_type": "stream",
     "text": [
      "How much money would you like to borrow from wallet? 200\n"
     ]
    },
    {
     "name": "stdout",
     "output_type": "stream",
     "text": [
      "You dont have enough money to play game. Would you like to borrow from your wallet?\n"
     ]
    },
    {
     "name": "stdin",
     "output_type": "stream",
     "text": [
      "How much money would you like to borrow from wallet? 200\n"
     ]
    },
    {
     "name": "stdout",
     "output_type": "stream",
     "text": [
      "You dont have enough money to play game. Would you like to borrow from your wallet?\n"
     ]
    },
    {
     "name": "stdin",
     "output_type": "stream",
     "text": [
      "How much money would you like to borrow from wallet? 200\n"
     ]
    },
    {
     "name": "stdout",
     "output_type": "stream",
     "text": [
      "You dont have enough money to play game. Would you like to borrow from your wallet?\n"
     ]
    },
    {
     "name": "stdin",
     "output_type": "stream",
     "text": [
      "How much money would you like to borrow from wallet? 200\n"
     ]
    },
    {
     "name": "stdout",
     "output_type": "stream",
     "text": [
      "You can play game.\n",
      "Your left wallet money is 4200\n"
     ]
    }
   ],
   "source": [
    "init_money=200\n",
    "wallet_money=5000\n",
    "while True:\n",
    "    if init_money<1000:\n",
    "        print(\"You dont have enough money to play game. Would you like to borrow from your wallet?\")\n",
    "        borrowd_money=eval(input(\"How much money would you like to borrow from wallet?\"))\n",
    "        init_money=init_money+borrowd_money\n",
    "        wallet_money=wallet_money-borrowd_money\n",
    "    else:\n",
    "        print(\"You can play game.\")\n",
    "        print(\"Your left wallet money is\", wallet_money)\n",
    "        break\n"
   ]
  },
  {
   "cell_type": "code",
   "execution_count": 9,
   "id": "03d33172-4e17-4b6d-82a1-f1909e69b044",
   "metadata": {},
   "outputs": [
    {
     "name": "stdout",
     "output_type": "stream",
     "text": [
      "p y t h o n "
     ]
    }
   ],
   "source": [
    "str1=\"python\"\n",
    "for char in str1:\n",
    "    print(char, end=\" \")"
   ]
  },
  {
   "cell_type": "code",
   "execution_count": 11,
   "id": "2193f2d3-b2cf-4649-a9de-4595e0ad3733",
   "metadata": {},
   "outputs": [],
   "source": [
    "import string"
   ]
  },
  {
   "cell_type": "code",
   "execution_count": 13,
   "id": "80241ea6-e0b0-4531-b5f2-6085ef91fc20",
   "metadata": {},
   "outputs": [
    {
     "data": {
      "text/plain": [
       "['Formatter',\n",
       " 'Template',\n",
       " '_ChainMap',\n",
       " '__all__',\n",
       " '__builtins__',\n",
       " '__cached__',\n",
       " '__doc__',\n",
       " '__file__',\n",
       " '__loader__',\n",
       " '__name__',\n",
       " '__package__',\n",
       " '__spec__',\n",
       " '_re',\n",
       " '_sentinel_dict',\n",
       " '_string',\n",
       " 'ascii_letters',\n",
       " 'ascii_lowercase',\n",
       " 'ascii_uppercase',\n",
       " 'capwords',\n",
       " 'digits',\n",
       " 'hexdigits',\n",
       " 'octdigits',\n",
       " 'printable',\n",
       " 'punctuation',\n",
       " 'whitespace']"
      ]
     },
     "execution_count": 13,
     "metadata": {},
     "output_type": "execute_result"
    }
   ],
   "source": [
    "dir(string)"
   ]
  },
  {
   "cell_type": "code",
   "execution_count": 15,
   "id": "3ace8f7a-a7db-46f0-96a6-f770a1ef5145",
   "metadata": {},
   "outputs": [
    {
     "data": {
      "text/plain": [
       "'!\"#$%&\\'()*+,-./:;<=>?@[\\\\]^_`{|}~'"
      ]
     },
     "execution_count": 15,
     "metadata": {},
     "output_type": "execute_result"
    }
   ],
   "source": [
    "string.punctuation"
   ]
  },
  {
   "cell_type": "code",
   "execution_count": 25,
   "id": "4ced1ea0-eb83-46cb-aeae-f71a14db56a6",
   "metadata": {},
   "outputs": [
    {
     "name": "stdout",
     "output_type": "stream",
     "text": [
      "e o a e i a i e o a o \n",
      "The total number of vowels in the sentence is 11\n"
     ]
    }
   ],
   "source": [
    "# Count vowels in a sentence\n",
    "count=0\n",
    "sen1=\"Hello my name is Prabin Devkota. Got It?\"\n",
    "for char in sen1:\n",
    "    if char in \"aeiou\":\n",
    "        count=count+1\n",
    "        print(char, end=\" \")\n",
    "print(\"\\nThe total number of vowels in the sentence is\",count)"
   ]
  },
  {
   "cell_type": "code",
   "execution_count": 3,
   "id": "e6a925dc-df44-47a4-8afd-7070bbad1b69",
   "metadata": {},
   "outputs": [
    {
     "name": "stdout",
     "output_type": "stream",
     "text": [
      "The number of words in that sentence is 1\n"
     ]
    }
   ],
   "source": [
    "# To count words in a sentence\n",
    "string1=\"This is a sentence.\"\n",
    "count=1 \n",
    "for char in string1:\n",
    "    if char==\" \":\n",
    "        count+=1\n",
    "print(\"The number of words in that sentence is\", count)"
   ]
  },
  {
   "cell_type": "code",
   "execution_count": 17,
   "id": "e0ad3f08-29bb-4f54-87d2-b59c5a19c16a",
   "metadata": {},
   "outputs": [
    {
     "name": "stdout",
     "output_type": "stream",
     "text": [
      "The number of hello in that sentence is 4\n"
     ]
    }
   ],
   "source": [
    "# To count how many hello are there in a sentence\n",
    "string2=\"Hello this is prabin, hello, hi, hello, again hello\"\n",
    "string2=string2.lower()\n",
    "count=0\n",
    "for i in range(len(string2)):\n",
    "    if string2[i:i+5] == 'hello':\n",
    "        count+=1\n",
    "print(\"The number of hello in that sentence is\", count)"
   ]
  },
  {
   "cell_type": "code",
   "execution_count": 63,
   "id": "965f14b3-6bcf-4080-a24d-542095032428",
   "metadata": {},
   "outputs": [
    {
     "ename": "TypeError",
     "evalue": "'int' object is not callable",
     "output_type": "error",
     "traceback": [
      "\u001b[1;31m---------------------------------------------------------------------------\u001b[0m",
      "\u001b[1;31mTypeError\u001b[0m                                 Traceback (most recent call last)",
      "Cell \u001b[1;32mIn[63], line 4\u001b[0m\n\u001b[0;32m      1\u001b[0m \u001b[38;5;66;03m# Replace R with r in Replace with codes\u001b[39;00m\n\u001b[0;32m      2\u001b[0m \u001b[38;5;66;03m# string1.replace(R,r)\u001b[39;00m\n\u001b[0;32m      3\u001b[0m string1\u001b[38;5;241m=\u001b[39m\u001b[38;5;124m\"\u001b[39m\u001b[38;5;124mReplace\u001b[39m\u001b[38;5;124m\"\u001b[39m\n\u001b[1;32m----> 4\u001b[0m \u001b[38;5;28;01mfor\u001b[39;00m i \u001b[38;5;129;01min\u001b[39;00m \u001b[38;5;28mrange\u001b[39m(\u001b[38;5;28mlen\u001b[39m(string1)):\n\u001b[0;32m      5\u001b[0m     \u001b[38;5;28;01mif\u001b[39;00m string1[i:i\u001b[38;5;241m+\u001b[39m\u001b[38;5;241m1\u001b[39m] \u001b[38;5;241m==\u001b[39m \u001b[38;5;124m'\u001b[39m\u001b[38;5;124mR\u001b[39m\u001b[38;5;124m'\u001b[39m:\n\u001b[0;32m      6\u001b[0m         \u001b[38;5;28mprint\u001b[39m(i)\n",
      "\u001b[1;31mTypeError\u001b[0m: 'int' object is not callable"
     ]
    }
   ],
   "source": [
    "# Replace R with r in Replace with codes\n",
    "# string1.replace(R,r)\n",
    "string1=\"Replace\"\n",
    "for i in range(len(string1)):\n",
    "    if string1[i:i+1] == 'R':\n",
    "        print(i)\n",
    "        \n",
    "print(string1)\n",
    "        \n",
    "        "
   ]
  },
  {
   "cell_type": "code",
   "execution_count": 45,
   "id": "e178adee-16ea-46bd-b088-3d9f7f3c3d25",
   "metadata": {},
   "outputs": [
    {
     "data": {
      "text/plain": [
       "'resatRt'"
      ]
     },
     "execution_count": 45,
     "metadata": {},
     "output_type": "execute_result"
    }
   ],
   "source": [
    "string1=\"resatrt\"\n",
    "string1=string1[::-1].replace('r', 'R',1)\n",
    "string1[::-1]\n",
    "\n"
   ]
  },
  {
   "cell_type": "code",
   "execution_count": 53,
   "id": "9c9dd0bd-2434-42d4-b590-d0e514b4d960",
   "metadata": {},
   "outputs": [
    {
     "data": {
      "text/plain": [
       "-1"
      ]
     },
     "execution_count": 53,
     "metadata": {},
     "output_type": "execute_result"
    }
   ],
   "source": [
    "string1=\"hello boys\"\n",
    "string1.find('z')"
   ]
  },
  {
   "cell_type": "code",
   "execution_count": 67,
   "id": "ecbc7606-027a-4a8c-a230-b94b81e3277c",
   "metadata": {},
   "outputs": [
    {
     "name": "stdout",
     "output_type": "stream",
     "text": [
      "First name is a\n",
      "Second name is de\n",
      "Company name is bo\n"
     ]
    }
   ],
   "source": [
    "#Extract first name, second name and company name\n",
    "str1=\"a.de@bo\"\n",
    "dotindex=str1.index(\".\")\n",
    "ampindex=str1.index(\"@\")\n",
    "print(\"First name is\", str1[:dotindex])\n",
    "print(\"Second name is\", str1[dotindex+1:ampindex])\n",
    "print(\"Company name is\", str1[ampindex+1:])\n",
    "\n"
   ]
  },
  {
   "cell_type": "code",
   "execution_count": 65,
   "id": "e381df80-fd06-4da5-934e-f018924d2f78",
   "metadata": {},
   "outputs": [
    {
     "ename": "NameError",
     "evalue": "name 'x' is not defined",
     "output_type": "error",
     "traceback": [
      "\u001b[1;31m---------------------------------------------------------------------------\u001b[0m",
      "\u001b[1;31mNameError\u001b[0m                                 Traceback (most recent call last)",
      "Cell \u001b[1;32mIn[65], line 3\u001b[0m\n\u001b[0;32m      1\u001b[0m \u001b[38;5;66;03m# Identify shortest and longest string in a sentence\u001b[39;00m\n\u001b[1;32m----> 3\u001b[0m x\n",
      "\u001b[1;31mNameError\u001b[0m: name 'x' is not defined"
     ]
    }
   ],
   "source": []
  },
  {
   "cell_type": "code",
   "execution_count": 5,
   "id": "9fb430ef-08e5-44e2-bebe-ad55dd654b0e",
   "metadata": {},
   "outputs": [
    {
     "name": "stdout",
     "output_type": "stream",
     "text": [
      "[1, 3, 4]\n",
      "2\n"
     ]
    }
   ],
   "source": [
    "list1=[1,2,3,4]\n",
    "a=list1.pop(1)\n",
    "print(list1)\n",
    "print(a)"
   ]
  },
  {
   "cell_type": "code",
   "execution_count": 7,
   "id": "20a452d4-7ad7-4396-b889-e28cae3515ce",
   "metadata": {},
   "outputs": [
    {
     "data": {
      "text/plain": [
       "['__add__',\n",
       " '__class__',\n",
       " '__class_getitem__',\n",
       " '__contains__',\n",
       " '__delattr__',\n",
       " '__delitem__',\n",
       " '__dir__',\n",
       " '__doc__',\n",
       " '__eq__',\n",
       " '__format__',\n",
       " '__ge__',\n",
       " '__getattribute__',\n",
       " '__getitem__',\n",
       " '__getstate__',\n",
       " '__gt__',\n",
       " '__hash__',\n",
       " '__iadd__',\n",
       " '__imul__',\n",
       " '__init__',\n",
       " '__init_subclass__',\n",
       " '__iter__',\n",
       " '__le__',\n",
       " '__len__',\n",
       " '__lt__',\n",
       " '__mul__',\n",
       " '__ne__',\n",
       " '__new__',\n",
       " '__reduce__',\n",
       " '__reduce_ex__',\n",
       " '__repr__',\n",
       " '__reversed__',\n",
       " '__rmul__',\n",
       " '__setattr__',\n",
       " '__setitem__',\n",
       " '__sizeof__',\n",
       " '__str__',\n",
       " '__subclasshook__',\n",
       " 'append',\n",
       " 'clear',\n",
       " 'copy',\n",
       " 'count',\n",
       " 'extend',\n",
       " 'index',\n",
       " 'insert',\n",
       " 'pop',\n",
       " 'remove',\n",
       " 'reverse',\n",
       " 'sort']"
      ]
     },
     "execution_count": 7,
     "metadata": {},
     "output_type": "execute_result"
    }
   ],
   "source": [
    "list1=[1,5,32,563,7,42,547,75]\n",
    "dir([])"
   ]
  },
  {
   "cell_type": "code",
   "execution_count": 11,
   "id": "65694dde-ad9c-4adc-9c2e-0113e5f202c2",
   "metadata": {},
   "outputs": [],
   "source": [
    "list1.sort()"
   ]
  },
  {
   "cell_type": "code",
   "execution_count": 15,
   "id": "3a5a79c4-72e5-4f73-be5d-478437ee2c47",
   "metadata": {},
   "outputs": [
    {
     "data": {
      "text/plain": [
       "[563, 547, 75, 42, 32, 7, 5, 1]"
      ]
     },
     "execution_count": 15,
     "metadata": {},
     "output_type": "execute_result"
    }
   ],
   "source": [
    "list1[::-1]"
   ]
  },
  {
   "cell_type": "code",
   "execution_count": 19,
   "id": "9f3942cb-b2e7-42a6-a6de-f4e056bc22c9",
   "metadata": {},
   "outputs": [
    {
     "data": {
      "text/plain": [
       "[4, 10, 6]"
      ]
     },
     "execution_count": 19,
     "metadata": {},
     "output_type": "execute_result"
    }
   ],
   "source": [
    "# Adding values of list\n",
    "list1=[1,5,4]\n",
    "list2=[3,5,2]\n",
    "list3=[]\n",
    "for i in range(len(list1)):\n",
    "    list3.append(list1[i]+list2[i])\n",
    "list3"
   ]
  },
  {
   "cell_type": "code",
   "execution_count": 21,
   "id": "34dbfdd4-f109-46b8-86f5-799a2d88fe0d",
   "metadata": {},
   "outputs": [
    {
     "data": {
      "text/plain": [
       "[4, 10, 6]"
      ]
     },
     "execution_count": 21,
     "metadata": {},
     "output_type": "execute_result"
    }
   ],
   "source": [
    "#OR\n",
    "out=[i+j for i,j in zip(list1,list2)]\n",
    "out\n"
   ]
  },
  {
   "cell_type": "code",
   "execution_count": 1,
   "id": "b0194f2a-fb50-4079-a48f-e8be44c43f44",
   "metadata": {},
   "outputs": [
    {
     "data": {
      "text/plain": [
       "{'Prabin': 1, 'Ram': 2, 'Shyam': 3}"
      ]
     },
     "execution_count": 1,
     "metadata": {},
     "output_type": "execute_result"
    }
   ],
   "source": [
    "# WAP to create dictionary with the help of two list\n",
    "list1=[\"Prabin\",\"Ram\",\"Shyam\"]\n",
    "list2=[1,2,3]\n",
    "dict={}\n",
    "for i,j in zip(list1,list2):\n",
    "    dict[i]=j\n",
    "dict"
   ]
  },
  {
   "cell_type": "code",
   "execution_count": 26,
   "id": "b0182464-7ab6-4f60-8b75-bc5d36c6b25f",
   "metadata": {},
   "outputs": [
    {
     "data": {
      "text/plain": [
       "{'even': [72, 90, 8], 'odd': [33, 53]}"
      ]
     },
     "execution_count": 26,
     "metadata": {},
     "output_type": "execute_result"
    }
   ],
   "source": [
    "# generate random number from 1 to 100 and grouping odd and even in dictonary\n",
    "import random\n",
    "dict={}\n",
    "even,odd=[],[]\n",
    "for i in range(5):\n",
    "    a=random.randint(1,100)\n",
    "    if a%2==0:\n",
    "        even.append(a)\n",
    "    else:\n",
    "        odd.append(a)\n",
    "dict['even']=even\n",
    "dict['odd']=odd\n",
    "dict\n"
   ]
  },
  {
   "cell_type": "code",
   "execution_count": 3,
   "id": "75647381-1a00-4c1f-9f1f-548426d055b2",
   "metadata": {},
   "outputs": [
    {
     "name": "stdout",
     "output_type": "stream",
     "text": [
      "-1\n",
      "-1\n"
     ]
    },
    {
     "data": {
      "text/plain": [
       "{'f_name': ['prabin', 'anil'],\n",
       " 'l_name': ['devkota', 'budathoki'],\n",
       " 'company': ['abc', 'fc']}"
      ]
     },
     "execution_count": 3,
     "metadata": {},
     "output_type": "execute_result"
    }
   ],
   "source": [
    "s1=\"prabin.devkota@abc.com,anil.budathoki@fc.com\"\n",
    "# To make dictionary such as {\"f_name\":['prabin','anil'],\n",
    "# \"s_name:['devkota','budathoki'],\"company:['abc','fc']\"\"}\n",
    "dict={}\n",
    "f_name,l_name,company=[],[],[]\n",
    "s1=s1.split(\",\")\n",
    "for i in s1:\n",
    "    f_name.append(i[0:i.index('.')])\n",
    "    l_name.append(i[i.index(\".\")+1:i.index('@')])\n",
    "    i=i[::-1]\n",
    "    company.append(i[i.index(\".\")+1:i.index(\"@\")][::-1])\n",
    "    print(i.find(\"a\",1,5))\n",
    "dict[\"f_name\"]=f_name\n",
    "dict[\"l_name\"]=l_name\n",
    "dict[\"company\"]=company\n",
    "dict"
   ]
  },
  {
   "cell_type": "code",
   "execution_count": 9,
   "id": "8bf0105a-dea3-43b9-a9b5-e8c7400cf005",
   "metadata": {},
   "outputs": [
    {
     "ename": "NameError",
     "evalue": "name 'd1' is not defined",
     "output_type": "error",
     "traceback": [
      "\u001b[1;31m---------------------------------------------------------------------------\u001b[0m",
      "\u001b[1;31mNameError\u001b[0m                                 Traceback (most recent call last)",
      "Cell \u001b[1;32mIn[9], line 5\u001b[0m\n\u001b[0;32m      1\u001b[0m d1\u001b[38;5;241m=\u001b[39m{\u001b[38;5;124m'\u001b[39m\u001b[38;5;124mf_name\u001b[39m\u001b[38;5;124m'\u001b[39m: [\u001b[38;5;124m'\u001b[39m\u001b[38;5;124mprabin\u001b[39m\u001b[38;5;124m'\u001b[39m, \u001b[38;5;124m'\u001b[39m\u001b[38;5;124manil\u001b[39m\u001b[38;5;124m'\u001b[39m],\n\u001b[0;32m      2\u001b[0m  \u001b[38;5;124m'\u001b[39m\u001b[38;5;124ml_name\u001b[39m\u001b[38;5;124m'\u001b[39m: [\u001b[38;5;124m'\u001b[39m\u001b[38;5;124mdevkota\u001b[39m\u001b[38;5;124m'\u001b[39m, \u001b[38;5;124m'\u001b[39m\u001b[38;5;124mbudathoki\u001b[39m\u001b[38;5;124m'\u001b[39m],\n\u001b[0;32m      3\u001b[0m  \u001b[38;5;124m'\u001b[39m\u001b[38;5;124mcompany\u001b[39m\u001b[38;5;124m'\u001b[39m: [\u001b[38;5;124m'\u001b[39m\u001b[38;5;124mabc\u001b[39m\u001b[38;5;124m'\u001b[39m, \u001b[38;5;124m'\u001b[39m\u001b[38;5;124mfc\u001b[39m\u001b[38;5;124m'\u001b[39m]}\n\u001b[0;32m      4\u001b[0m \u001b[38;5;28;01mdel\u001b[39;00m(d1)\n\u001b[1;32m----> 5\u001b[0m d1\n",
      "\u001b[1;31mNameError\u001b[0m: name 'd1' is not defined"
     ]
    }
   ],
   "source": [
    "d1={'f_name': ['prabin', 'anil'],\n",
    " 'l_name': ['devkota', 'budathoki'],\n",
    " 'company': ['abc', 'fc']}\n",
    "del(d1)\n",
    "d1"
   ]
  },
  {
   "cell_type": "code",
   "execution_count": 1,
   "id": "344454ae-5f09-4441-b536-503f03c9608a",
   "metadata": {},
   "outputs": [
    {
     "data": {
      "text/plain": [
       "'C:\\\\Users\\\\prabi\\\\OneDrive\\\\Documents\\\\Data Science\\\\DS-Practice by Omkar Nallagoni'"
      ]
     },
     "execution_count": 1,
     "metadata": {},
     "output_type": "execute_result"
    }
   ],
   "source": [
    "import os\n",
    "os.getcwd()"
   ]
  },
  {
   "cell_type": "code",
   "execution_count": 40,
   "id": "ed2b1cc1-e9aa-4b01-9ef0-4159f0ef5a0b",
   "metadata": {},
   "outputs": [
    {
     "data": {
      "text/plain": [
       "['Prabin', 'devkota']"
      ]
     },
     "execution_count": 40,
     "metadata": {},
     "output_type": "execute_result"
    }
   ],
   "source": [
    "#Code to remove \\n from the line\n",
    "list=[\"Prabin\\n\",\"devkota\\n\"]\n",
    "list1=[]\n",
    "for i,value in enumerate(list):\n",
    "    list1.append(value.replace(\"\\n\",\"\"))\n",
    "list1\n",
    "\n",
    "\n",
    "    "
   ]
  },
  {
   "cell_type": "code",
   "execution_count": null,
   "id": "1290e738-6465-4509-8424-8396e922614c",
   "metadata": {},
   "outputs": [],
   "source": [
    "#OR"
   ]
  },
  {
   "cell_type": "code",
   "execution_count": 46,
   "id": "3b93170b-da0a-4ad5-90ae-eefbdf6e4d73",
   "metadata": {},
   "outputs": [
    {
     "data": {
      "text/plain": [
       "['Prabin', 'devkota']"
      ]
     },
     "execution_count": 46,
     "metadata": {},
     "output_type": "execute_result"
    }
   ],
   "source": [
    "[string1.rstrip(\"\\n\") for string1 in list]"
   ]
  },
  {
   "cell_type": "code",
   "execution_count": 1,
   "id": "4f80901e-79a3-4cd0-bfa3-86a04836935c",
   "metadata": {},
   "outputs": [],
   "source": [
    "a=\"hello\""
   ]
  },
  {
   "cell_type": "code",
   "execution_count": 3,
   "id": "3287ba9c-4b27-452a-b308-2b8bcd831c88",
   "metadata": {},
   "outputs": [
    {
     "data": {
      "text/plain": [
       "'hello'"
      ]
     },
     "execution_count": 3,
     "metadata": {},
     "output_type": "execute_result"
    }
   ],
   "source": [
    "a"
   ]
  },
  {
   "cell_type": "code",
   "execution_count": null,
   "id": "c8268914-b93b-4f69-bfb6-c1ab0b88fa57",
   "metadata": {},
   "outputs": [],
   "source": []
  }
 ],
 "metadata": {
  "kernelspec": {
   "display_name": "Python 3 (ipykernel)",
   "language": "python",
   "name": "python3"
  },
  "language_info": {
   "codemirror_mode": {
    "name": "ipython",
    "version": 3
   },
   "file_extension": ".py",
   "mimetype": "text/x-python",
   "name": "python",
   "nbconvert_exporter": "python",
   "pygments_lexer": "ipython3",
   "version": "3.12.4"
  }
 },
 "nbformat": 4,
 "nbformat_minor": 5
}
